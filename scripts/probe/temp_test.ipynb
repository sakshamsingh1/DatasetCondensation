{
 "cells": [
  {
   "cell_type": "code",
   "execution_count": 11,
   "metadata": {},
   "outputs": [],
   "source": [
    "import torch\n",
    "import numpy as np\n",
    "import csv"
   ]
  },
  {
   "cell_type": "code",
   "execution_count": 8,
   "metadata": {},
   "outputs": [],
   "source": [
    "index = 4\n",
    "label = torch.from_numpy(np.array(index)).long()"
   ]
  },
  {
   "cell_type": "code",
   "execution_count": 12,
   "metadata": {},
   "outputs": [],
   "source": [
    "list_train = '/mnt/user/saksham/data_distill/data/labels/trainSet.csv'\n",
    "list_sample = []\n",
    "for row in csv.reader(open(list_train, 'r'), delimiter=','):\n",
    "    list_sample.append(row)"
   ]
  },
  {
   "cell_type": "code",
   "execution_count": 1,
   "metadata": {},
   "outputs": [
    {
     "data": {
      "text/plain": [
       "{1, 2, 3, 4, 5, 6, 7, 8, 9}"
      ]
     },
     "execution_count": 1,
     "metadata": {},
     "output_type": "execute_result"
    }
   ],
   "source": [
    "import random\n",
    "fps = 8\n",
    "curr = set()\n",
    "for i in range(1000):\n",
    "    curr_frame = random.randint(1, fps)\n",
    "    curr.add(curr_frame)\n",
    "curr    "
   ]
  },
  {
   "cell_type": "code",
   "execution_count": 17,
   "metadata": {},
   "outputs": [],
   "source": [
    "index = 37\n",
    "infos[0] = list_sample[index]"
   ]
  },
  {
   "cell_type": "code",
   "execution_count": 18,
   "metadata": {},
   "outputs": [
    {
     "name": "stdout",
     "output_type": "stream",
     "text": [
      "['i7LbVHMrs_8', '0', '10', 'Church_bell']\n"
     ]
    }
   ],
   "source": [
    "for n, infoN in enumerate(infos):\n",
    "    print(infoN)"
   ]
  },
  {
   "cell_type": "code",
   "execution_count": null,
   "metadata": {},
   "outputs": [],
   "source": []
  }
 ],
 "metadata": {
  "kernelspec": {
   "display_name": "Python 3.8.16 ('temp')",
   "language": "python",
   "name": "python3"
  },
  "language_info": {
   "codemirror_mode": {
    "name": "ipython",
    "version": 3
   },
   "file_extension": ".py",
   "mimetype": "text/x-python",
   "name": "python",
   "nbconvert_exporter": "python",
   "pygments_lexer": "ipython3",
   "version": "3.8.16"
  },
  "orig_nbformat": 4,
  "vscode": {
   "interpreter": {
    "hash": "75faa6bd888776d358ac22a6362bf26106d8777d78b41fdfb7c56de1ccfc142f"
   }
  }
 },
 "nbformat": 4,
 "nbformat_minor": 2
}
